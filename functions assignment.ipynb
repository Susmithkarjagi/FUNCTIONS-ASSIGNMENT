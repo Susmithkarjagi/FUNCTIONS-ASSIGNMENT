{
 "cells": [
  {
   "cell_type": "markdown",
   "id": "1c6e0fa4-f83e-4172-b288-01bfdaac29b1",
   "metadata": {},
   "source": [
    "## FUNCTIONS ASSIGNMENT"
   ]
  },
  {
   "cell_type": "markdown",
   "id": "2ca87deb-24d9-439f-a220-0ddc7ddf2796",
   "metadata": {},
   "source": [
    "Q1. Which keyword is used to create a function? Create a function to return a list of odd numbers in the\n",
    "range of 1 to 25."
   ]
  },
  {
   "cell_type": "markdown",
   "id": "e92722e6-fce0-4f07-8564-c40a088b4045",
   "metadata": {},
   "source": [
    "#ANSWER1"
   ]
  },
  {
   "cell_type": "markdown",
   "id": "e4b52358-e736-44b5-a175-82390b4a3b36",
   "metadata": {},
   "source": [
    "The keyword \"def\" is used to create a function in Python."
   ]
  },
  {
   "cell_type": "code",
   "execution_count": 5,
   "id": "94c32d9e-057c-494e-bf6e-f44030287049",
   "metadata": {},
   "outputs": [],
   "source": [
    "def oddnumbers(a):\n",
    "    n=[]\n",
    "    for i in range(1,a+1):\n",
    "        if i%2!=0:\n",
    "            n.append(i)\n",
    "    return(n)\n",
    "    \n",
    "  \n",
    "            \n",
    "    "
   ]
  },
  {
   "cell_type": "code",
   "execution_count": 6,
   "id": "3350f9b1-1629-42bd-98ed-bf515ff5665c",
   "metadata": {},
   "outputs": [
    {
     "data": {
      "text/plain": [
       "[1, 3, 5, 7, 9, 11, 13, 15, 17, 19, 21, 23, 25]"
      ]
     },
     "execution_count": 6,
     "metadata": {},
     "output_type": "execute_result"
    }
   ],
   "source": [
    "oddnumbers(25)"
   ]
  },
  {
   "cell_type": "markdown",
   "id": "6d1f2c6c-eef9-4cb1-b033-8d96abd6910e",
   "metadata": {},
   "source": [
    "Q2. Why *args and **kwargs is used in some functions? Create a function each for *args and **kwargs to\n",
    "demonstrate their use."
   ]
  },
  {
   "cell_type": "markdown",
   "id": "aa90cf10-bc3d-487b-83a5-4110810a5053",
   "metadata": {},
   "source": [
    "#ANSWER 2"
   ]
  },
  {
   "cell_type": "markdown",
   "id": "8c63d14d-db21-4fd0-9d36-ee4f121516d1",
   "metadata": {},
   "source": [
    "In Python, *args and **kwargs are used to allow a function to accept a variable number of arguments.\n",
    "\n",
    "The *args syntax is used to pass a variable number of non-keyword arguments to a function. When the function is called, *args collects all the positional arguments into a tuple. \n"
   ]
  },
  {
   "cell_type": "code",
   "execution_count": 9,
   "id": "72c34f7e-c213-404c-9978-decfb1de7af8",
   "metadata": {},
   "outputs": [],
   "source": [
    "def test(*args,a=\"pwskills\"):\n",
    "    return args,a"
   ]
  },
  {
   "cell_type": "code",
   "execution_count": 10,
   "id": "616ffaf8-ab4d-495e-80ab-f083ac6af617",
   "metadata": {},
   "outputs": [
    {
     "data": {
      "text/plain": [
       "((1, 2, 3, 5), 'pwskills')"
      ]
     },
     "execution_count": 10,
     "metadata": {},
     "output_type": "execute_result"
    }
   ],
   "source": [
    "test(1,2,3,5)"
   ]
  },
  {
   "cell_type": "code",
   "execution_count": 11,
   "id": "172da257-6094-42e0-87da-03f2a7b7c9c4",
   "metadata": {},
   "outputs": [
    {
     "data": {
      "text/plain": [
       "((1, 7, 8, 5, 3, 'sushmit'), 'pwskills')"
      ]
     },
     "execution_count": 11,
     "metadata": {},
     "output_type": "execute_result"
    }
   ],
   "source": [
    "test(1,7,8,5,3,\"sushmit\")"
   ]
  },
  {
   "cell_type": "code",
   "execution_count": 12,
   "id": "45365e89-79cb-4079-ac73-cae74175d82f",
   "metadata": {},
   "outputs": [],
   "source": [
    "def test1(**kwargs):\n",
    "    return kwargs"
   ]
  },
  {
   "cell_type": "code",
   "execution_count": 13,
   "id": "b2ef54f8-1027-45f7-ac0b-723586ef486d",
   "metadata": {},
   "outputs": [
    {
     "data": {
      "text/plain": [
       "{'a': 1, 'b': 2, 'c': 3, 'd': 'pyshicswalla'}"
      ]
     },
     "execution_count": 13,
     "metadata": {},
     "output_type": "execute_result"
    }
   ],
   "source": [
    "test1(a=1,b=2,c=3,d=(\"pyshicswalla\"))"
   ]
  },
  {
   "cell_type": "code",
   "execution_count": 14,
   "id": "fdd4d1ca-20f1-48f3-8ddb-1966259b0780",
   "metadata": {},
   "outputs": [
    {
     "data": {
      "text/plain": [
       "function"
      ]
     },
     "execution_count": 14,
     "metadata": {},
     "output_type": "execute_result"
    }
   ],
   "source": [
    "type(test1)"
   ]
  },
  {
   "cell_type": "markdown",
   "id": "b7105a2c-b3ea-4937-a8d3-e068923a19d6",
   "metadata": {},
   "source": [
    "Q3. What is an iterator in python? Name the method used to initialise the iterator object and the method\n",
    "used for iteration. Use these methods to print the first five elements of the given list [2, 4, 6, 8, 10, 12, 14, 16,\n",
    "18, 20]."
   ]
  },
  {
   "cell_type": "markdown",
   "id": "e0db439b-0652-4b8b-be9c-ded9466867ff",
   "metadata": {},
   "source": [
    "#ANSWER 3"
   ]
  },
  {
   "cell_type": "markdown",
   "id": "dbef70a5-9509-4dda-9bf9-4d1a372b5ebc",
   "metadata": {},
   "source": [
    "An iterator in Python is an object that implements the iter method and the next method (or the __next__ method in Python 3), which are used to traverse a collection of elements. The iter method initializes the iterator, and the next method returns the next element of the collection. If there are no more elements in the collection, the next method raises a StopIteration exception."
   ]
  },
  {
   "cell_type": "markdown",
   "id": "2abad393-f856-4b60-8d93-b4d0e1a833a1",
   "metadata": {},
   "source": [
    "here is an example:"
   ]
  },
  {
   "cell_type": "code",
   "execution_count": 1,
   "id": "8e68a34b-269c-41ab-8068-19b490e18f6c",
   "metadata": {},
   "outputs": [
    {
     "name": "stdout",
     "output_type": "stream",
     "text": [
      "2\n",
      "4\n",
      "6\n",
      "8\n",
      "10\n"
     ]
    }
   ],
   "source": [
    "list = [2, 4, 6, 8, 10, 12, 14, 16, 18, 20]\n",
    "list_iterator = iter(list)\n",
    "\n",
    "for i in range(5):\n",
    "    print(next(list_iterator))\n"
   ]
  },
  {
   "cell_type": "markdown",
   "id": "8922a21b-2d38-491a-af66-8ce16496a331",
   "metadata": {},
   "source": [
    "Q4. What is a generator function in python? Why yield keyword is used? Give an example of a generator\n",
    "function.\n",
    "\n",
    "#ANSWER 4"
   ]
  },
  {
   "cell_type": "markdown",
   "id": "ff6c8349-7242-45bf-b6c0-43f98365cdab",
   "metadata": {},
   "source": [
    "A generator function in Python is a special type of function that uses the yield keyword to return a generator iterator. Unlike a normal function that returns a value and terminates, a generator function yields multiple values one at a time, allowing you to iterate over a potentially infinite collection of values. When a generator function is called, it returns a generator object that can be iterated over using a for loop or the next method.\n",
    "\n",
    "The yield keyword is used in a generator function to return a value and pause the function's execution. The next time the generator's next method is called, the function resumes from where it left off and continues until it reaches the next yield statement or the end of the function."
   ]
  },
  {
   "cell_type": "markdown",
   "id": "7229d809-ec03-4737-89ba-acfda58c94d4",
   "metadata": {},
   "source": [
    "here is an example:\n",
    "    "
   ]
  },
  {
   "cell_type": "markdown",
   "id": "b2442dd2-39ae-4307-a3a5-2925c13f1c64",
   "metadata": {},
   "source": [
    "#fibonacci series"
   ]
  },
  {
   "cell_type": "code",
   "execution_count": 6,
   "id": "2204353b-24c1-4b34-8378-b36deac97f83",
   "metadata": {},
   "outputs": [],
   "source": [
    "def test_fib(n):\n",
    "    a,b=0,1\n",
    "    for i in range(n):\n",
    "        yield a\n",
    "        a,b=b,a+b\n",
    "  "
   ]
  },
  {
   "cell_type": "code",
   "execution_count": 3,
   "id": "ec2647bd-19be-404f-800c-e189f71a272f",
   "metadata": {},
   "outputs": [
    {
     "data": {
      "text/plain": [
       "<generator object test_fib at 0x7f4eb2f65e70>"
      ]
     },
     "execution_count": 3,
     "metadata": {},
     "output_type": "execute_result"
    }
   ],
   "source": [
    "test_fib(10)"
   ]
  },
  {
   "cell_type": "code",
   "execution_count": 7,
   "id": "3c5c16e7-c959-4d0c-a057-4158f71a6521",
   "metadata": {},
   "outputs": [
    {
     "name": "stdout",
     "output_type": "stream",
     "text": [
      "0\n",
      "1\n",
      "1\n",
      "2\n",
      "3\n",
      "5\n",
      "8\n",
      "13\n",
      "21\n",
      "34\n"
     ]
    }
   ],
   "source": [
    "for i in test_fib(10):\n",
    "    print(i)"
   ]
  },
  {
   "cell_type": "markdown",
   "id": "8654cbe1-d618-4d90-8245-6dc2c7706622",
   "metadata": {},
   "source": [
    "Q5. Create a generator function for prime numbers less than 1000. Use the next() method to print the\n",
    "first 20 prime numbers."
   ]
  },
  {
   "cell_type": "markdown",
   "id": "4604fa3e-a325-4406-8ae8-1526a5fdd3aa",
   "metadata": {},
   "source": [
    "#ANSWER 5"
   ]
  },
  {
   "cell_type": "code",
   "execution_count": 2,
   "id": "41c81adb-355e-46d4-8c51-750094c4f7c5",
   "metadata": {},
   "outputs": [
    {
     "name": "stdout",
     "output_type": "stream",
     "text": [
      "2\n",
      "3\n",
      "5\n",
      "7\n",
      "11\n",
      "13\n",
      "17\n",
      "19\n",
      "23\n",
      "29\n",
      "31\n",
      "37\n",
      "41\n",
      "43\n",
      "47\n",
      "53\n",
      "59\n",
      "61\n",
      "67\n",
      "71\n"
     ]
    }
   ],
   "source": [
    "def prime_numbers_generator():\n",
    "    yield 2\n",
    "    primes = [2]\n",
    "    for candidate in range(3, 1000):\n",
    "        is_prime = True\n",
    "        for prime in primes:\n",
    "            if candidate % prime == 0:\n",
    "                is_prime = False\n",
    "                break\n",
    "        if is_prime:\n",
    "            primes.append(candidate)\n",
    "            yield candidate\n",
    "\n",
    "prime_numbers = prime_numbers_generator()\n",
    "for i in range(20):\n",
    "    print(next(prime_numbers))\n"
   ]
  },
  {
   "cell_type": "code",
   "execution_count": null,
   "id": "4b346a26-79dd-4e75-b7a1-a48d5fc883c4",
   "metadata": {},
   "outputs": [],
   "source": []
  }
 ],
 "metadata": {
  "kernelspec": {
   "display_name": "Python 3 (ipykernel)",
   "language": "python",
   "name": "python3"
  },
  "language_info": {
   "codemirror_mode": {
    "name": "ipython",
    "version": 3
   },
   "file_extension": ".py",
   "mimetype": "text/x-python",
   "name": "python",
   "nbconvert_exporter": "python",
   "pygments_lexer": "ipython3",
   "version": "3.10.8"
  }
 },
 "nbformat": 4,
 "nbformat_minor": 5
}
